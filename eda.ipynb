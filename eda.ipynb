{
 "cells": [
  {
   "cell_type": "markdown",
   "id": "dd988074",
   "metadata": {},
   "source": [
    "# Exploratory Data Analysis - Financial Data Quality"
   ]
  },
  {
   "cell_type": "code",
   "execution_count": null,
   "id": "5c245fe7",
   "metadata": {},
   "outputs": [],
   "source": [
    "import pandas as pd\n",
    "import matplotlib.pyplot as plt"
   ]
  },
  {
   "cell_type": "code",
   "execution_count": null,
   "id": "dce7ab11",
   "metadata": {},
   "outputs": [],
   "source": [
    "# Load data\n",
    "file_path = 'data/AAPL_raw.csv'\n",
    "df = pd.read_csv(file_path)\n",
    "df.head()"
   ]
  },
  {
   "cell_type": "code",
   "execution_count": null,
   "id": "4bed8447",
   "metadata": {},
   "outputs": [],
   "source": [
    "# Plot closing price trend\n",
    "df['Close'].plot(figsize=(10, 4), title='AAPL Closing Price')\n",
    "plt.xlabel('Index')\n",
    "plt.ylabel('Close Price')\n",
    "plt.grid(True)\n",
    "plt.show()"
   ]
  },
  {
   "cell_type": "code",
   "execution_count": null,
   "id": "474a890c",
   "metadata": {},
   "outputs": [],
   "source": [
    "# Describe statistics\n",
    "df.describe()"
   ]
  }
 ],
 "metadata": {},
 "nbformat": 4,
 "nbformat_minor": 5
}
